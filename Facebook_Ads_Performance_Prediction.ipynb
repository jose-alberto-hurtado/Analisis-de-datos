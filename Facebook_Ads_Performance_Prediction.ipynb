{
  "nbformat": 4,
  "nbformat_minor": 0,
  "metadata": {
    "colab": {
      "provenance": [],
      "authorship_tag": "ABX9TyMWDGZch9sTEQ8Tr72Whofi",
      "include_colab_link": true
    },
    "kernelspec": {
      "name": "python3",
      "display_name": "Python 3"
    },
    "language_info": {
      "name": "python"
    }
  },
  "cells": [
    {
      "cell_type": "markdown",
      "metadata": {
        "id": "view-in-github",
        "colab_type": "text"
      },
      "source": [
        "<a href=\"https://colab.research.google.com/github/jose-alberto-hurtado/Analisis-de-datos/blob/main/Facebook_Ads_Performance_Prediction.ipynb\" target=\"_parent\"><img src=\"https://colab.research.google.com/assets/colab-badge.svg\" alt=\"Open In Colab\"/></a>"
      ]
    },
    {
      "cell_type": "markdown",
      "source": [
        "# Análisis de Campañas de Facebook Ads y Predicción de Interacciones"
      ],
      "metadata": {
        "id": "tY_4WRAwTcbv"
      }
    },
    {
      "cell_type": "markdown",
      "source": [
        "## 1. Introducción\n",
        "\n",
        "### 1.1 Contexto del Proyecto\n",
        "\n",
        "En la era digital, las campañas publicitarias en redes sociales como Facebook Ads son clave para las marcas.\n",
        "\n",
        "Sin embargo, comprender el impacto de las visualizaciones en la generación de \"likes\" es fundamental para optimizar estrategias de marketing.\n",
        "\n",
        "Este estudio analiza el desempeño de anuncios publicitarios en Facebook Ads, identificando patrones en la relación entre visualizaciones (views) y likes (likes).\n",
        "\n",
        "También se desarrollaron modelos de predicción para optimizar futuras campañas."
      ],
      "metadata": {
        "id": "-jkBD_QITttX"
      }
    },
    {
      "cell_type": "markdown",
      "source": [
        "### 1.2 Propósito y Objetivo\n",
        "\n",
        "Evaluar la correlación entre views y likes.\n",
        "\n",
        "Desarrollar modelos de Machine Learning para predecir likes en base a views.\n",
        "\n",
        "Identificar qué modelo ofrece la mejor precisión.\n",
        "\n",
        "Generar recomendaciones para optimizar la inversión en publicidad digital."
      ],
      "metadata": {
        "id": "NIlH_MByT-_f"
      }
    },
    {
      "cell_type": "markdown",
      "source": [
        "### 1.3 Hipótesis\n",
        "\n",
        "Se plantea la hipótesis de que existe una correlación positiva entre el número de visualizaciones (\"views\") y la cantidad de \"likes\".\n",
        "\n",
        "Se evaluará qué modelo predictivo ofrece mejores resultados para futuras campañas."
      ],
      "metadata": {
        "id": "r0mieN_6UGKC"
      }
    },
    {
      "cell_type": "markdown",
      "source": [
        "## 2. Librerías Utilizadas"
      ],
      "metadata": {
        "id": "u0aHQQQ3UW7G"
      }
    },
    {
      "cell_type": "code",
      "source": [
        "import pandas as pd\n",
        "import numpy as np\n",
        "import seaborn as sns\n",
        "import matplotlib.pyplot as plt\n",
        "from sklearn.model_selection import train_test_split, GridSearchCV\n",
        "from sklearn.preprocessing import StandardScaler\n",
        "from sklearn.ensemble import RandomForestRegressor\n",
        "from sklearn.linear_model import Ridge\n",
        "from sklearn.metrics import mean_absolute_error, r2_score\n",
        "from xgboost import XGBRegressor"
      ],
      "metadata": {
        "id": "ceGk5IiPTn6B"
      },
      "execution_count": 197,
      "outputs": []
    },
    {
      "cell_type": "markdown",
      "source": [
        "## 3. Carga y Limpieza de Datos"
      ],
      "metadata": {
        "id": "nBGVffuFUnO4"
      }
    },
    {
      "cell_type": "code",
      "source": [
        "# Cargar el dataset\n",
        "df = pd.read_csv(\"data.csv\", sep=\",\", skiprows=1, names=[\"views\", \"likes\"])\n",
        "\n",
        "# Convertir a valores numéricos\n",
        "df[\"views\"] = pd.to_numeric(df[\"views\"], errors=\"coerce\")\n",
        "df[\"likes\"] = pd.to_numeric(df[\"likes\"], errors=\"coerce\")\n",
        "\n",
        "# Verificar valores nulos\n",
        "df.dropna(inplace=True)"
      ],
      "metadata": {
        "id": "tXoj6gRHUjKR"
      },
      "execution_count": 198,
      "outputs": []
    },
    {
      "cell_type": "markdown",
      "source": [
        "Conclusión: Los datos han sido correctamente cargados y limpiados.\n",
        "\n",
        "No hay valores nulos."
      ],
      "metadata": {
        "id": "a6pbTf-QU0Ol"
      }
    },
    {
      "cell_type": "markdown",
      "source": [
        "## 4. Análisis Exploratorio de Datos (EDA)"
      ],
      "metadata": {
        "id": "NztOJdUWU5NY"
      }
    },
    {
      "cell_type": "code",
      "source": [
        "# Histogramas\n",
        "df.hist(figsize=(10, 5), bins=20)\n",
        "plt.show()\n",
        "\n",
        "# Matriz de correlación\n",
        "corr_matrix = df.corr()\n",
        "sns.heatmap(corr_matrix, annot=True, cmap=\"coolwarm\", fmt=\".2f\")\n",
        "plt.title(\"Matriz de Correlación\")\n",
        "plt.show()"
      ],
      "metadata": {
        "colab": {
          "base_uri": "https://localhost:8080/",
          "height": 903
        },
        "id": "sIYx5LZCUvd5",
        "outputId": "e24fbcfb-5b38-4e77-bf25-ca833b85a665"
      },
      "execution_count": 199,
      "outputs": [
        {
          "output_type": "display_data",
          "data": {
            "text/plain": [
              "<Figure size 1000x500 with 2 Axes>"
            ],
            "image/png": "[encoded data removed]"
          },
          "metadata": {}
        },
        {
          "output_type": "display_data",
          "data": {
            "text/plain": [
              "<Figure size 640x480 with 2 Axes>"
            ],
            "image/png": "[encoded data removed]"
          },
          "metadata": {}
        }
      ]
    },
    {
      "cell_type": "markdown",
      "source": [
        "Conclusión: Existe una correlación baja (-0.16) entre views y likes, lo que indica que otros factores podrían influir en la interacción de los usuarios."
      ],
      "metadata": {
        "id": "cgVCOAAlVEAr"
      }
    },
    {
      "cell_type": "markdown",
      "source": [
        "## 5. Creación y Entrenamiento de Modelos"
      ],
      "metadata": {
        "id": "5TFrg7a3VJkk"
      }
    },
    {
      "cell_type": "code",
      "source": [
        "# División de datos en train y test\n",
        "X = df[[\"views\"]]\n",
        "y = df[\"likes\"]\n",
        "X_train, X_test, y_train, y_test = train_test_split(X, y, test_size=0.2, random_state=42)\n",
        "\n",
        "# Estandarización de los datos\n",
        "scaler = StandardScaler()\n",
        "X_train_scaled = scaler.fit_transform(X_train)\n",
        "X_test_scaled = scaler.transform(X_test)\n",
        "\n",
        "# Modelo Random Forest\n",
        "modelo_rf = RandomForestRegressor(n_estimators=100, random_state=42)\n",
        "modelo_rf.fit(X_train_scaled, y_train)\n",
        "y_pred_rf = modelo_rf.predict(X_test_scaled)\n",
        "\n",
        "print(\"MAE (Random Forest):\", mean_absolute_error(y_test, y_pred_rf))\n",
        "print(\"R^2 (Random Forest):\", r2_score(y_test, y_pred_rf))\n",
        "\n",
        "# Modelo XGBoost\n",
        "modelo_xgb = XGBRegressor(n_estimators=100, learning_rate=0.1, max_depth=5, random_state=42)\n",
        "modelo_xgb.fit(X_train_scaled, y_train)\n",
        "y_pred_xgb = modelo_xgb.predict(X_test_scaled)\n",
        "\n",
        "print(\"MAE (XGBoost):\", mean_absolute_error(y_test, y_pred_xgb))\n",
        "print(\"R^2 (XGBoost):\", r2_score(y_test, y_pred_xgb))"
      ],
      "metadata": {
        "colab": {
          "base_uri": "https://localhost:8080/"
        },
        "id": "bQt-wVu4VAFp",
        "outputId": "4db2e90c-cc28-4d0c-ca81-677bf68118e9"
      },
      "execution_count": 200,
      "outputs": [
        {
          "output_type": "stream",
          "name": "stdout",
          "text": [
            "MAE (Random Forest): 8.037999999999997\n",
            "R^2 (Random Forest): -0.3823875668407386\n",
            "MAE (XGBoost): 6.535780334472657\n",
            "R^2 (XGBoost): -0.12310575738007778\n"
          ]
        }
      ]
    },
    {
      "cell_type": "markdown",
      "source": [
        "Conclusión: Los modelos presentan desempeños variables.\n",
        "\n",
        "El Random Forest tiene menor MAE, pero el XGBoost podría mejorar con hiperparámetros ajustados."
      ],
      "metadata": {
        "id": "hTeIRAEiVTti"
      }
    },
    {
      "cell_type": "markdown",
      "source": [
        "## 6. Optimización de Modelos"
      ],
      "metadata": {
        "id": "7oP3jCD4VcO7"
      }
    },
    {
      "cell_type": "code",
      "source": [
        "param_grid = {\n",
        "    \"n_estimators\": [50, 100],\n",
        "    \"max_depth\": [5, 10],\n",
        "    \"min_samples_split\": [2, 5],\n",
        "    \"min_samples_leaf\": [1, 2]\n",
        "}\n",
        "\n",
        "rf_grid = GridSearchCV(RandomForestRegressor(random_state=42), param_grid, cv=3, scoring='neg_mean_absolute_error')\n",
        "rf_grid.fit(X_train_scaled, y_train)\n",
        "\n",
        "print(\"Mejores Hiperparámetros:\", rf_grid.best_params_)"
      ],
      "metadata": {
        "colab": {
          "base_uri": "https://localhost:8080/"
        },
        "id": "Hz2iXkycVQ3J",
        "outputId": "591ac1e6-c28a-4eca-cde1-dd5188e3e12a"
      },
      "execution_count": 201,
      "outputs": [
        {
          "output_type": "stream",
          "name": "stdout",
          "text": [
            "Mejores Hiperparámetros: {'max_depth': 5, 'min_samples_leaf': 2, 'min_samples_split': 5, 'n_estimators': 50}\n"
          ]
        }
      ]
    },
    {
      "cell_type": "markdown",
      "source": [
        "Conclusión: Se identificaron los mejores hiperparámetros para Random Forest, lo que podría mejorar su rendimiento."
      ],
      "metadata": {
        "id": "IE5dMc9DVku-"
      }
    },
    {
      "cell_type": "markdown",
      "source": [
        "## 7. Conclusiones Finales\n",
        "\n",
        "- Los datos muestran una correlación baja entre views y likes, indicando que otros factores podrían afectar la interacción de los usuarios.\n",
        "\n",
        "- El modelo Random Forest obtuvo mejores resultados en términos de MAE, pero el XGBoost podría optimizarse aún más.\n",
        "\n",
        "- Se podría expandir el análisis agregando más variables, como presupuesto de publicidad o engagement de usuarios.\n",
        "\n",
        "- Este análisis puede ayudar a optimizar futuras campañas de Facebook Ads, enfocando la inversión en estrategias que generen mayor engagement."
      ],
      "metadata": {
        "id": "buyErwFCVp81"
      }
    },
    {
      "cell_type": "markdown",
      "source": [
        "## 8. Recomendaciones y Trabajo Futuro\n",
        "\n",
        "- Explorar más variables: Incorporar otras métricas como CTR, tiempo de publicación y segmento demográfico.\n",
        "\n",
        "- Probar modelos avanzados: Usar Gradient Boosting, LightGBM o Redes Neuronales para mejorar predicciones.\n",
        "\n",
        "- Realizar validación cruzada: Evaluar con diferentes particiones de datos.\n",
        "\n",
        "- Evaluar diferentes estrategias de publicidad en Facebook Ads según los hallazgos."
      ],
      "metadata": {
        "id": "TDNrVNm6V2Ta"
      }
    }
  ]
}